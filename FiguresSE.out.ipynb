{
 "cells": [
  {
   "cell_type": "markdown",
   "metadata": {},
   "source": [
    "# Exploring How SE Academic Papers Use Figures\n",
    "\n",
    "Marco Torchiano [![](data:image/png;base64,iVBORw0KGgoAAAANSUhEUgAAABAAAAAQCAYAAAAf8/9hAAAAGXRFWHRTb2Z0d2FyZQBBZG9iZSBJbWFnZVJlYWR5ccllPAAAA2ZpVFh0WE1MOmNvbS5hZG9iZS54bXAAAAAAADw/eHBhY2tldCBiZWdpbj0i77u/IiBpZD0iVzVNME1wQ2VoaUh6cmVTek5UY3prYzlkIj8+IDx4OnhtcG1ldGEgeG1sbnM6eD0iYWRvYmU6bnM6bWV0YS8iIHg6eG1wdGs9IkFkb2JlIFhNUCBDb3JlIDUuMC1jMDYwIDYxLjEzNDc3NywgMjAxMC8wMi8xMi0xNzozMjowMCAgICAgICAgIj4gPHJkZjpSREYgeG1sbnM6cmRmPSJodHRwOi8vd3d3LnczLm9yZy8xOTk5LzAyLzIyLXJkZi1zeW50YXgtbnMjIj4gPHJkZjpEZXNjcmlwdGlvbiByZGY6YWJvdXQ9IiIgeG1sbnM6eG1wTU09Imh0dHA6Ly9ucy5hZG9iZS5jb20veGFwLzEuMC9tbS8iIHhtbG5zOnN0UmVmPSJodHRwOi8vbnMuYWRvYmUuY29tL3hhcC8xLjAvc1R5cGUvUmVzb3VyY2VSZWYjIiB4bWxuczp4bXA9Imh0dHA6Ly9ucy5hZG9iZS5jb20veGFwLzEuMC8iIHhtcE1NOk9yaWdpbmFsRG9jdW1lbnRJRD0ieG1wLmRpZDo1N0NEMjA4MDI1MjA2ODExOTk0QzkzNTEzRjZEQTg1NyIgeG1wTU06RG9jdW1lbnRJRD0ieG1wLmRpZDozM0NDOEJGNEZGNTcxMUUxODdBOEVCODg2RjdCQ0QwOSIgeG1wTU06SW5zdGFuY2VJRD0ieG1wLmlpZDozM0NDOEJGM0ZGNTcxMUUxODdBOEVCODg2RjdCQ0QwOSIgeG1wOkNyZWF0b3JUb29sPSJBZG9iZSBQaG90b3Nob3AgQ1M1IE1hY2ludG9zaCI+IDx4bXBNTTpEZXJpdmVkRnJvbSBzdFJlZjppbnN0YW5jZUlEPSJ4bXAuaWlkOkZDN0YxMTc0MDcyMDY4MTE5NUZFRDc5MUM2MUUwNEREIiBzdFJlZjpkb2N1bWVudElEPSJ4bXAuZGlkOjU3Q0QyMDgwMjUyMDY4MTE5OTRDOTM1MTNGNkRBODU3Ii8+IDwvcmRmOkRlc2NyaXB0aW9uPiA8L3JkZjpSREY+IDwveDp4bXBtZXRhPiA8P3hwYWNrZXQgZW5kPSJyIj8+84NovQAAAR1JREFUeNpiZEADy85ZJgCpeCB2QJM6AMQLo4yOL0AWZETSqACk1gOxAQN+cAGIA4EGPQBxmJA0nwdpjjQ8xqArmczw5tMHXAaALDgP1QMxAGqzAAPxQACqh4ER6uf5MBlkm0X4EGayMfMw/Pr7Bd2gRBZogMFBrv01hisv5jLsv9nLAPIOMnjy8RDDyYctyAbFM2EJbRQw+aAWw/LzVgx7b+cwCHKqMhjJFCBLOzAR6+lXX84xnHjYyqAo5IUizkRCwIENQQckGSDGY4TVgAPEaraQr2a4/24bSuoExcJCfAEJihXkWDj3ZAKy9EJGaEo8T0QSxkjSwORsCAuDQCD+QILmD1A9kECEZgxDaEZhICIzGcIyEyOl2RkgwAAhkmC+eAm0TAAAAABJRU5ErkJggg==)](https://orcid.org/0000-0001-5328-368X) (Politecnico di Torino)  \n",
    "Lorenzo Laudadio [![](data:image/png;base64,iVBORw0KGgoAAAANSUhEUgAAABAAAAAQCAYAAAAf8/9hAAAAGXRFWHRTb2Z0d2FyZQBBZG9iZSBJbWFnZVJlYWR5ccllPAAAA2ZpVFh0WE1MOmNvbS5hZG9iZS54bXAAAAAAADw/eHBhY2tldCBiZWdpbj0i77u/IiBpZD0iVzVNME1wQ2VoaUh6cmVTek5UY3prYzlkIj8+IDx4OnhtcG1ldGEgeG1sbnM6eD0iYWRvYmU6bnM6bWV0YS8iIHg6eG1wdGs9IkFkb2JlIFhNUCBDb3JlIDUuMC1jMDYwIDYxLjEzNDc3NywgMjAxMC8wMi8xMi0xNzozMjowMCAgICAgICAgIj4gPHJkZjpSREYgeG1sbnM6cmRmPSJodHRwOi8vd3d3LnczLm9yZy8xOTk5LzAyLzIyLXJkZi1zeW50YXgtbnMjIj4gPHJkZjpEZXNjcmlwdGlvbiByZGY6YWJvdXQ9IiIgeG1sbnM6eG1wTU09Imh0dHA6Ly9ucy5hZG9iZS5jb20veGFwLzEuMC9tbS8iIHhtbG5zOnN0UmVmPSJodHRwOi8vbnMuYWRvYmUuY29tL3hhcC8xLjAvc1R5cGUvUmVzb3VyY2VSZWYjIiB4bWxuczp4bXA9Imh0dHA6Ly9ucy5hZG9iZS5jb20veGFwLzEuMC8iIHhtcE1NOk9yaWdpbmFsRG9jdW1lbnRJRD0ieG1wLmRpZDo1N0NEMjA4MDI1MjA2ODExOTk0QzkzNTEzRjZEQTg1NyIgeG1wTU06RG9jdW1lbnRJRD0ieG1wLmRpZDozM0NDOEJGNEZGNTcxMUUxODdBOEVCODg2RjdCQ0QwOSIgeG1wTU06SW5zdGFuY2VJRD0ieG1wLmlpZDozM0NDOEJGM0ZGNTcxMUUxODdBOEVCODg2RjdCQ0QwOSIgeG1wOkNyZWF0b3JUb29sPSJBZG9iZSBQaG90b3Nob3AgQ1M1IE1hY2ludG9zaCI+IDx4bXBNTTpEZXJpdmVkRnJvbSBzdFJlZjppbnN0YW5jZUlEPSJ4bXAuaWlkOkZDN0YxMTc0MDcyMDY4MTE5NUZFRDc5MUM2MUUwNEREIiBzdFJlZjpkb2N1bWVudElEPSJ4bXAuZGlkOjU3Q0QyMDgwMjUyMDY4MTE5OTRDOTM1MTNGNkRBODU3Ii8+IDwvcmRmOkRlc2NyaXB0aW9uPiA8L3JkZjpSREY+IDwveDp4bXBtZXRhPiA8P3hwYWNrZXQgZW5kPSJyIj8+84NovQAAAR1JREFUeNpiZEADy85ZJgCpeCB2QJM6AMQLo4yOL0AWZETSqACk1gOxAQN+cAGIA4EGPQBxmJA0nwdpjjQ8xqArmczw5tMHXAaALDgP1QMxAGqzAAPxQACqh4ER6uf5MBlkm0X4EGayMfMw/Pr7Bd2gRBZogMFBrv01hisv5jLsv9nLAPIOMnjy8RDDyYctyAbFM2EJbRQw+aAWw/LzVgx7b+cwCHKqMhjJFCBLOzAR6+lXX84xnHjYyqAo5IUizkRCwIENQQckGSDGY4TVgAPEaraQr2a4/24bSuoExcJCfAEJihXkWDj3ZAKy9EJGaEo8T0QSxkjSwORsCAuDQCD+QILmD1A9kECEZgxDaEZhICIzGcIyEyOl2RkgwAAhkmC+eAm0TAAAAABJRU5ErkJggg==)](https://orcid.org/0009-0001-3496-0072) (Politecnico di Torino)\n",
    "\n",
    "The usage of figures to represent data or concepts in scientific articles is a common practice. We aim to understand what figures are used for in SE articles and in particular how quantitative data is represented. For this purpose we analyzed 865 articles published in leading software engineering scientific conferences and journals and classified 6342 figures and their contents. 47% of the figures are used to convey quantitative information and the rest depict more abstract non-quantitative information. The most common types of quantitative diagrams are bar plots, box plots, and line plots, accounting for 75% of the quantitative figures. We also found that each figure contains 1.6 errors, although 75% of them do not contain any critical error. Critical blatant errors are found in less than 5% of the figures."
   ],
   "id": "7dd9efd3-baec-43e4-bcb4-0489aaa46fc4"
  },
  {
   "cell_type": "code",
   "execution_count": null,
   "metadata": {},
   "outputs": [
    {
     "output_type": "stream",
     "name": "stderr",
     "text": [
      "── Attaching core tidyverse packages ──────────────────────── tidyverse 2.0.0 ──\n",
      "✔ dplyr     1.1.1     ✔ readr     2.1.4\n",
      "✔ forcats   1.0.0     ✔ stringr   1.5.0\n",
      "✔ ggplot2   3.4.1     ✔ tibble    3.2.1\n",
      "✔ lubridate 1.9.2     ✔ tidyr     1.3.0\n",
      "✔ purrr     1.0.1     \n",
      "── Conflicts ────────────────────────────────────────── tidyverse_conflicts() ──\n",
      "✖ dplyr::filter() masks stats::filter()\n",
      "✖ dplyr::lag()    masks stats::lag()\n",
      "ℹ Use the conflicted package (<http://conflicted.r-lib.org/>) to force all conflicts to become errors"
     ]
    },
    {
     "output_type": "stream",
     "name": "stderr",
     "text": [
      "Registered S3 method overwritten by 'GGally':\n",
      "  method from   \n",
      "  +.gg   ggplot2"
     ]
    }
   ],
   "source": [
    "library(tidyverse)"
   ],
   "id": "4dff2c69-cc43-42ed-bde4-f2878ecf05ba"
  },
  {
   "cell_type": "markdown",
   "metadata": {},
   "source": [
    "# 1. Introduction\n",
    "\n",
    "In software engineering (SE) research, the effective communication of ideas, methodologies, and results is paramount. Papers in this field often employ a variety of visual aids, including figures, tables, and code fragments, to complement the textual content and enhance clarity. While there exist a large research community that explores innovative visualization techniques, the majority of visualizations in SE papers remain relatively mundane, relying on basic, well-established methods. This reliance on standard visual aids reflects both the practical constraints and the entrenched practices within the field.\n",
    "\n",
    "Practitioners who regularly writes papers and supervises younger researchers, can often find themselves providing guidance on the effective use of visualizations. This necessity arises from observing a recurring issue: poorly designed diagrams that fail to effectively convey the intended information. Additionally, as reviewers, we frequently encounter diagrams that are not only visually unappealing but also ineffective in communicating complex ideas. These experiences underscore a broader concern within the community regarding the presentation quality of SE papers. A critical question emerges: is it worthwhile to invest substantial effort in designing more sophisticated and effective diagrams? This paper aims to address this question by examining the current state of visualization practices in SE research.\n",
    "\n",
    "The goal of this paper is to advance the discourse on visualization in software engineering. The main contributions consist in:\n",
    "\n",
    "-   Overview of the State of the Practice: We provide a comprehensive analysis of the current visualization practices within prominent SE venues, identifying prevailing trends and common practices.\n",
    "-   Purpose of Figures: An examination of the various roles that figures play in SE papers, shedding light on how they contribute to the overall narrative and understanding of the research.\n",
    "-   Catalogue of Common Diagrams: A detailed catalog of the most frequently used diagrams, offering insights into their typical applications and variations.\n",
    "\n",
    "In particular we will focus on quantitative visualization, i.e. charts and diagrams that encode quantitative measures. This is opposed to non-quantitative visualization that represent conceptual aspects in a more or less formal way, e.g., software representations such as UML diagrams.\n",
    "\n",
    "Overall by surveying the current practices and identifying most common errors, this paper seeks to elevate the standard of visual communication in software engineering research, ultimately contributing to the clarity and impact of published work.\n",
    "\n",
    "# 2. Background\n",
    "\n",
    "Data visualization is a critical component in the communication of scientific research, enabling the distillation of complex data into comprehensible visual formats. By transforming raw data into graphical representations, researchers can more effectively highlight patterns, trends, and anomalies, thereby facilitating better understanding and interpretation. In the context of academic publications, well-designed visualizations are not merely supplementary but essential elements that enhance the clarity and impact of the presented research.\n",
    "\n",
    "## 2.1 Visualization of Quantitative Information\n",
    "\n",
    "The seminal book *The Visual Display of Quantitative Information* [\\[1\\]](#ref-tufte1983) revolutionized the way quantitative data is presented. Tufte emphasized principles such as lie factor and data-ink ratio, and laid the groundwork for a set of best practices that prioritize proportionality, clarity, and utility in the visual representation of data.\n",
    "\n",
    "Building on the principles established by Tufte, subsequent scholars have further refined the guidelines for effective data visualization. Notably, Tamara Munzner’s *Visualization Analysis and Design* [\\[2\\]](#ref-munzner2014) offers a comprehensive framework for creating insightful and effective visualizations. Munzner’s work addresses the complexity of visual encoding and interaction, providing a systematic approach to design that is applicable across various disciplines. Her guidelines cover a broad spectrum of visualization types, from simple charts to complex, interactive graphics, emphasizing the importance of aligning visualization techniques with the specific needs and goals of the analysis.\n",
    "\n",
    "In the domain of software engineering (SE), tailored guidelines for visualization have been proposed to address the unique challenges and requirements of the field. One notable contribution is the Empirical Standards for Software Engineering Research, as articulated by [\\[3\\]](#ref-EmpiricalStandards). These standards provide a robust framework for conducting and presenting empirical research in SE, including specific recommendations for the use of visualizations. The guidelines emphasize aim to ensure that dagrams and charts effectively support the communication of research findings.\n",
    "\n",
    "## 2.2 Graph Error Taxonomy\n",
    "\n",
    "On the basis of the extensive literature and the personal experience in reviewing papers we defined a taxonomy of errors that include three levels of severity:\n",
    "\n",
    "-   Critical: the error can severely impact the correct understanding of the quantitative message;\n",
    "-   Major: the error can significantly impact the ease of understanding, demanding more effort than strictly required;\n",
    "-   Minor: the error can moderately impact the ease of understanding."
   ],
   "id": "a4639201-046f-4731-969c-eeadd280c5af"
  },
  {
   "cell_type": "code",
   "execution_count": null,
   "metadata": {},
   "outputs": [],
   "source": [
    "errors <- read_csv(\"GraphErrors.csv\", \n",
    "                    col_types = cols(\n",
    "                      Severity = col_factor(levels=c(\"Critical\",\"Major\",\"Minor\")),\n",
    "                      Error = col_character(),\n",
    "                      Description = col_character()\n",
    "                    ))\n",
    "errors_tab <- errors |> \n",
    "  arrange(Severity,Error) |>\n",
    "  group_by(Severity) |>\n",
    "  summarize(Errors = str_wrap(paste(Error,collapse = \", \"), width=40)) "
   ],
   "id": "5eac3216-c970-43f9-80a7-0ca8264a27c8"
  },
  {
   "cell_type": "markdown",
   "metadata": {},
   "source": [
    "The detailed descriptions of the are reported below:\n",
    "\n",
    "``` r\n",
    "errors |> \n",
    "  arrange(Severity,Error) |>\n",
    "  rowwise() |>\n",
    "  summarize(Severity=Severity,desc = paste0(\"- **\",Error,\"** \",Description)) |>\n",
    "  group_by(Severity) |> \n",
    "  summarize(desc=paste(\"### \",first(Severity),\"\\n\\n\", desc |> paste0(collapse=\"\\n\\n\"))) %>%\n",
    "  .$desc |> paste0(collapse=\"\\n\\n\") |> cat()\n",
    "```\n",
    "\n",
    "### 2.2.1 Critical\n",
    "\n",
    "-   **Cropped** The graph is cropped and some details are not visible since they lay outside. This impedes the vision of part of the diagram.\n",
    "\n",
    "-   **Deformed** The graph is somehow deformed with proportion not consistente across the area. Often this is – wrongly – used to emphasize some detail instead of using more suitable techniques, the reuslt is a deception of the observer [\\[4\\]](#ref-pandey2015).\n",
    "\n",
    "-   **DoubleScale** The graph uses a double (vertical) scale. Research in cognitive science [\\[5\\]](#ref-Few2012) suggests that people may misinterpret trends if they do not notice the differing scales, potentially leading to incorrect conclusions about the correlation between the two datasets.\n",
    "\n",
    "-   **MissingAxesRef** The whole axes or the tick marks are missing. This make the quantitative information contained in the diagram fuzzy and imprecise failing the goal of conveying accurate information.\n",
    "\n",
    "-   **NonZeroBased** A bar diagram with truncated bars, axis not starting at 0. This is a serious problem concerning the visual integrity of the diagram, in particualar it affects proportionality [\\[1\\]](#ref-tufte1983), thus falsifying the quantitative message of the diagram.\n",
    "\n",
    "-   **SimilarColors** Graph uses very similar colors, hard to tell apart. Research indicates that low contrast between colors (especially in terms of luminosity) can reduce the speed and accuracy of information interpretation [\\[7\\]](#ref-silva2011).\n",
    "\n",
    "-   **TooManyCats** The graph encodes too many categories (usually more than six) with attributes like color or shape. For instance, [\\[8\\]](#ref-macdonald1999) recommends that the number of colors used to represent nominal data should be restricted to seven or less, while sudies by [\\[6\\]](#ref-ware2013) found that people can typically distinguish 4 to 6 distinct shapes effectively.\n",
    "\n",
    "### 2.2.2 Major\n",
    "\n",
    "-   **3D** There are 3D effects. The additional cognitive effort required for 3D interpretation often results in slower reaction times and higher error rates [\\[6\\]](#ref-ware2013).\n",
    "\n",
    "-   **GridDistinctRanges** When multiple graph are present (grid of chars, a.k.a. small multiples), the corresponding axes have different intervals. [\\[9\\]](#ref-heer2009) shows that when the scales are consistent across all plots, viewers can quickly and accurately compare values; while inconsistent axes may lead to misinterpretation.\n",
    "\n",
    "-   **InterruptedScale** One of the axes is interrupted and restarted after a discontinuity to show extremely spread values. Axis breaks can affect the perceived effect size, leading viewers to believe that the differences between data points are more significant than they actually are [\\[4\\]](#ref-pandey2015).\n",
    "\n",
    "-   **Legend** There is a legend that could have been turned into direct labeling. Direct labeling (i.e., placing labels close to the data points) instead of using a separate legend reduces the need for eye movements between the legend and the chart elements, thus it leads to faster and more accurate interpretation [\\[10\\]](#ref-ratwani2008).\n",
    "\n",
    "-   **Mislabeled** Labels are obscuring or get confused with data. A key recommendation when creating a diagram is ‘above all show the data’ [\\[1\\]](#ref-tufte1983).\n",
    "\n",
    "-   **Overplotting** There are too many overplotted points that prevent distinguishing individual points. It leads to misleading interpretations, particularly in scatter plots used to show relationships or correlations; since the points are not distinguishable, viewers may fail to detect underlying relationships or trends [\\[5\\]](#ref-Few2012).\n",
    "\n",
    "-   **RotatedXLabels** The labels on the X axis are rotated (not horizontal). Rotated labels can interfere with the viewer’s ability to quickly interpret the data, as they require additional time for visual decoding; such effect is particularly pronounced in bar charts with long category labels [\\[5\\]](#ref-Few2012).\n",
    "\n",
    "-   **SilentLog** One of the axes uses a log scale but this is not clearly mentioned. While log scales help in visualizing both small and large values in the same plot without extreme compression or skewing of the data points [\\[11\\]](#ref-cleveland1994), viewers often misinterpret log scales if the axis labels do not clearly indicate the logarithmic nature of the scale [\\[5\\]](#ref-Few2012).\n",
    "\n",
    "-   **Unlabeled** The axes are not labeled. While the meaning of the axes can be inferred from the caption of the main text of the article, the lack of labels makes understanding the graph much less immediate.\n",
    "\n",
    "### 2.2.3 Minor\n",
    "\n",
    "-   **ColorsUncoded** There are many color not corresponding to an explicit coding (legend or other). If colors are used purely for decorative purposes without encoding information, they may inadvertently create a false visual hierarchy, drawing attention away from the key data elements [\\[5\\]](#ref-Few2012).\n",
    "\n",
    "-   **HeavyBackground** The background is heavy. If the background is so intense to almost obscure the data or to draw attention away from the data, the visual message is lost [\\[1\\]](#ref-tufte1983).\n",
    "\n",
    "-   **HeavyGrid** The grid of the graph is heavy. If the visual presence of grid is so strong to almost obscure the data, the visual message is lost [\\[1\\]](#ref-tufte1983).\n",
    "\n",
    "-   **LegendBorder** The legend has a border (preventing free eye scan)\n",
    "\n",
    "-   **LegendInside** The legeng is inside the graph area\n",
    "\n",
    "-   **OverlappedLabels** Labels are overlapping with each other. Overlapping labels are difficult to read thus they require additional effort or make impossible understanding.\n",
    "\n",
    "-   **PatternFill** Area fill is using a parttern (e.g., lines or dots) instead of diferent hues or gray levels. Excessive use of patterns can create a ‘busy’ appearance, making it harder for viewers to focus on the main data trends [\\[5\\]](#ref-Few2012).\n",
    "\n",
    "-   **Raster** Usage of low resolution raster images instead of vectorial format. When a figure uses a raster image with poor resolution it appears unpleasantly grainy – espectially when zoomed in – and possibly difficult to read.\n",
    "\n",
    "-   **Shadow** The graph makes use of shadows. Using shadows as well as other decorative visual effects reduces the data-to-ink ratio and makes the diagram cluttered, thus weakening the visual message [\\[1\\]](#ref-tufte1983).\n",
    "\n",
    "-   **TooMuchPrecision** The graph reports values that have a too high precision (decimal digits) for the intended purpose. Any additional information that is not necessary increases the cognitive load and makes the graph less understandable [\\[5\\]](#ref-Few2012).\n",
    "\n",
    "-   **WasteSpace** A large portion of graph area is empty. This is a bad us of space that dilutes the visual message in the graph.\n",
    "\n",
    "-   **WrappedXLabs** Labels on the x axis are wrapped due to limited space. Wrapped labels are more difficult to read, often they can be solved with a simple graph redesign.\n",
    "\n",
    "# 3. Experimental design\n",
    "\n",
    "The general goal of the study can be formulated using the GQM template [\\[12\\]](#ref-GQM1999):"
   ],
   "id": "dd582953-a850-4290-9daf-0a55feba0e3a"
  },
  {
   "cell_type": "code",
   "execution_count": null,
   "metadata": {},
   "outputs": [],
   "source": [
    "gqm<-\n",
    "  tibble( item = c(\"Analyze\",\"For the purpose of\", \"With respect to\", \"From the viewpoint of\", \"In the context of\"),\n",
    "         value = c(\"the usage of figures articles\",\"understanding\",\"the type, technique, and mistakes\",\"paper authors and reviewers\",\"SE conferences and journals\" ))\n",
    "\n",
    "gqm |> kableExtra::kbl(booktabs = T, col.names = c(\"\",\"\"))"
   ],
   "id": "3d4dcfee-b7ba-49b6-811d-d52fb4f3b595"
  },
  {
   "cell_type": "markdown",
   "metadata": {},
   "source": [
    "## 3.1 Research questions\n",
    "\n",
    "In order to achieve the above goal we define the following research questions:\n",
    "\n",
    "-   **RQ1**. Mode: how are figures used in SE articles?\n",
    "\n",
    "    To have an initial assessment of the phenomenon we consider important to understand how many figures are used in SE papers. Also it is interesting to observe if there is a trend in time concerning the usage of figures.\n",
    "\n",
    "-   **RQ2**. Content: what are figures used for?\n",
    "\n",
    "    Figures are used to convey many different types of information. The most general distinction is between quantitative and non quantitative information. A further step is to look into the different type of contents shown in the figures.\n",
    "\n",
    "-   **RQ3**. Type: what types of diagrams are used to convey quantitative information?\n",
    "\n",
    "    Focusing on quantitative diagrams we investigate the type of diagrams used in the papers.\n",
    "\n",
    "-   **RQ4**. Mistakes: What are the errors committed in quantitative diagrams?\n",
    "\n",
    "    We focus on all diagrams and then we analyze the specific mistakes committed in the most used diagram types.\n",
    "\n",
    "For all the question above we aim to investigate whether a change can be observed for different venues and if time affected any aspect.\n",
    "\n",
    "## 3.2 Variables\n",
    "\n",
    "To investigate the above research questions we collected a set of variables that are described in <a href=\"#tbl-variables\" class=\"quarto-xref\">Table 2</a>.\n",
    "\n",
    "In particular we collected measures on two type of entities: the articles and figures that appear in them."
   ],
   "id": "2462db14-8667-4331-b8ce-18bd89300353"
  },
  {
   "cell_type": "code",
   "execution_count": null,
   "metadata": {},
   "outputs": [],
   "source": [
    "tibble(\n",
    "  Entity = c(\"Article\",rep(\"\",5),\"Figure\",rep(\"\",2)),\n",
    "  Variable = c(\"VenueType\",\"Venue\",\"Year\",\"Pages\",\"NumFigures\",\"FigDensity\",\n",
    "               \"Category\",\"Type\",\"Mistake\"),\n",
    "  Description = c(\"categorical: { Conference, Journal }\",\"string: name of conf. or journal\",\n",
    "                  \"integer: year of publication\", \"integer: pages of the article\",\n",
    "                  \"integer: number of figures\", \"derived: NumFigures/Pages\",\n",
    "                  \"categorical: {Q, NonQ}\", \"categorical: type of content\", \"set of categorical: the errors found\")\n",
    ") |> kableExtra::kbl(booktabs = T,linesep = c(rep(\"\",5),\"\\\\midrule\"))"
   ],
   "id": "ec861aa7-1a0e-4993-a694-7c4b418cd16d"
  },
  {
   "cell_type": "code",
   "execution_count": null,
   "metadata": {},
   "outputs": [],
   "source": [
    "graph_types <- read_csv(\"GraphTypes.csv\", col_types = \n",
    "                          cols(\n",
    "                            Type = col_character(),\n",
    "                            Description = col_character(),\n",
    "                            Quantitative = col_integer()\n",
    "                          )) %>% \n",
    "                mutate(Category=c(\"Q\",\"NonQ\")[2-Quantitative]) %>% \n",
    "                select(Category,Type,Description,-Quantitative) %>% \n",
    "                arrange(Category,Type)\n",
    "\n",
    "graph_types_tab <- graph_types |> \n",
    "    group_by(Category) |> \n",
    "    summarize(Types = str_wrap(paste(Type,collapse = \", \"), width=40))"
   ],
   "id": "90f5f29d-fe7a-4151-b7f5-a7e03449327c"
  },
  {
   "cell_type": "markdown",
   "metadata": {},
   "source": [
    "The taxonomy of graph type was initially formed on the basis of the main graph types described in the literature, e.g. [\\[5\\]](#ref-Few2012). Then it was updated when, during the analysis of the articles, a diagram that was impossible to classify appeared.\n",
    "\n",
    "## 3.3 Procedure\n",
    "\n",
    "We selected a set of recent issues of two leading SE Journals – IEEE Transactions on Software Engineering (TSE) and Empirical Software Engineering Journal (EMSE) – and SE conferences – ACM/IEEE International Symposium on Empirical Software Engineering and Measurement (ESEM) and ACM/IEEE International Conference on Software Engineering (ICSE) –. We downloaded all the articles in 2022 issues of the two journals, those appearing in the year 2017, 2019, 2021, and 2022 of ESEM and a sample of those appearing in years 2018, 2019, 2021, and 2022 of ICSE[1]. For each article we went though it and for each figure we classified it using the taxonomy presented in the section above. In addition, for the quantitative figures, we applied the error taxonomy described in <a href=\"#sec-error-taxonomy\" class=\"quarto-xref\">Section 2.2</a> to identify errors present in the figure.\n",
    "\n",
    "The person performing the analysis started with a limited number of articles then they discussed all the collected data with the leading researcher to define the correct application of the taxonomy. After the processing of a whole venue a second round of discussion focused on the dubious cases that emerged during the analysis.\n",
    "\n",
    "# 4. Results\n",
    "\n",
    "[1] Due to the large number of articles in ICSE, only a sample of the total article was analyzed except for year 2019."
   ],
   "id": "40cd9f3f-575a-4d42-8cfb-098cd1a4aed5"
  },
  {
   "cell_type": "code",
   "execution_count": null,
   "metadata": {},
   "outputs": [],
   "source": [
    "papers = read_csv(\"papers.csv\", col_types = cols(\n",
    "  VenueType = col_character(),\n",
    "  Venue = col_character(),\n",
    "  Year = col_integer(),\n",
    "  DOI = col_character(),\n",
    "  pages = col_integer(),\n",
    "))\n",
    "\n",
    "non_quantitative = c(\"Schema\", \"Code\", \"Screenshot\", \"Picture\", \"Graph\", \"Table\", \"Wordcloud\")\n",
    "\n",
    "dg <- read_csv(\"SEVizData.csv\", show_col_types = FALSE) |>\n",
    "      mutate( main_type = Type |> str_extract(\"[^, +/()]+\") |> str_to_title() ) %>% \n",
    "      mutate( main_type = str_replace(main_type,\"Dots?\",\"Dot\")) %>% \n",
    "      mutate( main_type = str_replace(main_type,\"Bars?|Diverging\",\"Bar\")) %>% \n",
    "      mutate( main_type = str_replace(main_type,\"Box(plot)?\",\"Boxplot\")) %>% \n",
    "      mutate( main_type = str_replace(main_type,\"Scatter.*\",\"Scatter\")) %>% \n",
    "      mutate( main_type = str_replace(main_type,\"Dendogram\",\"Dendrogram\")) %>% \n",
    "      mutate( main_type = str_replace(main_type,\"Word.*\",\"Wordcloud\")) %>% \n",
    "      mutate( main_type = str_replace(main_type,\"Uml\",\"Schema\")) %>%\n",
    "      #mutate(quantitative = ! main_type %in% non_quantitative )\n",
    "      mutate(quantitative = factor(! main_type %in% non_quantitative,levels=c(FALSE,TRUE),labels=c(\"NonQ\",\"Q\")))\n",
    "\n",
    "# add journal info\n",
    "dg <- papers |> \n",
    "      full_join(dg, by = join_by(DOI), suffix=c(\"\",\"_\")) |>\n",
    "      mutate(Missing = is.na(Venue_))\n",
    "\n",
    "# define an order for the venues\n",
    "\n",
    "VenueOrdered = c(\"ESEM\",\"ICSE\",\"EMSE\",\"TSE\")\n",
    "dg <- dg|> mutate(Venue = factor(Venue,levels=VenueOrdered))"
   ],
   "id": "f6b2239e-c857-4807-bc5d-5ce8df5bba9d"
  },
  {
   "cell_type": "markdown",
   "metadata": {},
   "source": [
    "Overall in our study we analyzed a total of 865 articles that included 6342 figures. The detailed counts for the different venues we took into consideration are reported in <a href=\"#tbl-sources\" class=\"quarto-xref\">Table 3</a>."
   ],
   "id": "466fc6b3-2459-4a58-a9d5-c61d8872bf17"
  },
  {
   "cell_type": "code",
   "execution_count": null,
   "metadata": {},
   "outputs": [],
   "source": [
    "dg |> \n",
    "  group_by(VenueType,Venue,Year,DOI) |>\n",
    "  summarize(Figures=sum(!Missing),\n",
    "            Missing=all(Missing),\n",
    "            .groups=\"drop\") |>\n",
    "  group_by(VenueType,Venue,Year) |>\n",
    "  summarize(Figures=sum(Figures), Articles=sum(!Missing), TotalArticles=n(), .groups=\"drop\") |>\n",
    "  mutate(Year = as.character(Year)) %>%\n",
    "  add_row(.,VenueType=\"\",Venue=\"Total\",Year=\"\",\n",
    "          Articles=sum(.$Articles, na.rm=TRUE),\n",
    "          Figures=sum(.$Figures, na.rm=TRUE),\n",
    "          TotalArticles=sum(.$TotalArticles)) |>\n",
    "  unfill(\"VenueType\") |> unfill(\"Venue\") |>\n",
    "  kableExtra::kbl(booktabs = T, linesep = c(rep(\"\",3),\"\\\\addlinespace\",rep(\"\",3),\"\\\\addlinespace\",rep(\"\",1),\"\\\\addlinespace\"))"
   ],
   "id": "f9bbd385-1e26-4495-a26f-e8ea06557d6e"
  },
  {
   "cell_type": "markdown",
   "metadata": {},
   "source": [
    "## 4.1 RQ1: Mode\n",
    "\n",
    "The first RQ focuses on how much figures are used in SE papers to convey information.\n",
    "\n",
    "To address this question we looked at the number of figures that are used in the articles. Since the length of the articles can be quite diverse, we computed a derived measure that is the density of figures, i.e. the number of figures per page. <a href=\"#fig-density\" class=\"quarto-xref\">Fig. 1</a> reports the figure density for the four different venues, i.e. the conferences ESEM and ICSE as well as the journals TSE and ICSE. The figure shows the distribution of density using a boxplot and reports the mean value as a cross."
   ],
   "id": "e0de5df1-f90c-4dc6-97b1-879312b73ff4"
  },
  {
   "cell_type": "code",
   "execution_count": null,
   "metadata": {},
   "outputs": [
    {
     "output_type": "display_data",
     "metadata": {},
     "data": {}
    }
   ],
   "source": [
    "dg.density <-\n",
    "dg |> filter(!Missing) |> \n",
    "  group_by(VenueType,Venue,Year,DOI) %>% \n",
    "  summarize(num_fig=sum(Fig!=0),fig_per_page=num_fig/first(pages),pages=first(pages),.groups=\"drop\")\n",
    "\n",
    "dg.density |> \n",
    "ggplot(aes(x=fig_per_page,y=Venue, fill=VenueType)) +\n",
    "  geom_boxplot() +\n",
    "  geom_point(aes(x=mean_fig), \n",
    "             shape=\"+\",size=5,\n",
    "             data=function(d) d |> group_by(Venue, VenueType) |>\n",
    "                   summarize(mean_fig=mean(fig_per_page,na.rm=TRUE),\n",
    "                             .groups = \"drop\")) +\n",
    "  scale_fill_brewer(type=\"qual\",palette=1)+\n",
    "  xlab(\"Figures per page\") + \n",
    "  theme_minimal()+\n",
    "  theme(panel.grid.major.y = element_blank(),\n",
    "        legend.position = \"bottom\",\n",
    "        axis.title.y = element_text(vjust=1,angle = 0, margin = margin(r=-15)))"
   ],
   "id": "cell-fig-density"
  },
  {
   "cell_type": "markdown",
   "metadata": {},
   "source": [
    "We observe that on average the papers have a mean density of 0.42 figures per page and the median is 0.35. The details are reported in <a href=\"#tbl-figure-density\" class=\"quarto-xref\">Table 4</a>. The proportion of articles that have no picture is 2.9%, with the highest percentage for ESEM conference (9.4%)."
   ],
   "id": "4e4c08a2-6b90-40a8-a0d7-45bf80506e20"
  },
  {
   "cell_type": "code",
   "execution_count": null,
   "metadata": {},
   "outputs": [],
   "source": [
    "dg.density|> arrange(Venue) |>\n",
    "  rbind(dg.density|>mutate(Venue=\"Total\")) |>\n",
    "  group_by(Venue) |> \n",
    "  summarize( MeanFigures = round(mean(num_fig),1),\n",
    "             #MedianFigures = round(median(num_fig),1),\n",
    "             MeanPages = round(mean(pages),1),\n",
    "             #MedianPages = round(median(pages),1),\n",
    "             MeanDensity=round(mean(fig_per_page),2),\n",
    "             MedianDensity=round(median(fig_per_page),2),\n",
    "             WithoutFigure=sum(num_fig==0), \n",
    "             Pct=paste0(round(WithoutFigure/n()*100,1),\"%\")\n",
    "             ) |>\n",
    "  mutate(WithoutFigure=paste0(WithoutFigure,\" (\",Pct,\")\")) |>\n",
    "  select(-Pct) |>\n",
    "  kableExtra::kbl(booktabs = T,\n",
    "                  #col.names = c(\"Venue\",\"Mean F\",\"Med F\",\"Mean P\",\"Med P\",\"Mean D\",\"Med D\",\"w/o Fig\",\"%\"))\n",
    "                  #col.names = c(\"Venue\",\"Mean F\",\"Mean P\",\"Mean D\",\"w/o Fig\",\"%\"))\n",
    "                  col.names = c(\"Venue\",\"Figures\",\"Pages\",\"Mean F/P\",\"Median F/P\",\"w/o Fig\"),\n",
    "                  align=\"lrrrr\")"
   ],
   "id": "8adba8dd-2e10-4836-88cd-c1d58390b6b9"
  },
  {
   "cell_type": "markdown",
   "metadata": {},
   "source": [
    "By looking at the figure we can observe significant differences among the four venues. Such visual assessment is confirmed by the result of an ANOVA analysis of figure density vs. Venue that are reported in <a href=\"#tbl-anova-density\" class=\"quarto-xref\">Table 5</a>. Considering as the reference level for the Venue variable the ESEM conference, by looking at the coefficient estimates we observe a significantly lower higher value for the ICSE conference and lower for EMSE journal, while the density of TSE is not different."
   ],
   "id": "93398823-7112-437e-92a8-14fabc0034c2"
  },
  {
   "cell_type": "code",
   "execution_count": null,
   "metadata": {},
   "outputs": [],
   "source": [
    "lm(fig_per_page~Venue, data=dg.density) |> summary() |> \n",
    "  coefficients() |> as_tibble(rownames=\"Coefficient\") |>\n",
    "  pvalue_fmt(\"Pr(>|t|)\") |>\n",
    "  kableExtra::kbl(booktabs = T, digits=3)"
   ],
   "id": "ae095ab7-85fa-428a-8178-d2d8ffc4bcfe"
  },
  {
   "cell_type": "markdown",
   "metadata": {},
   "source": [
    "Since the length of articles we report in <a href=\"#fig-pages-density\" class=\"quarto-xref\">Fig. 2</a> a scatter plot of figure density vs. number of pages."
   ],
   "id": "c19f22fc-866c-42fd-ace4-4a71800fc5d6"
  },
  {
   "cell_type": "code",
   "execution_count": null,
   "metadata": {},
   "outputs": [
    {
     "output_type": "display_data",
     "metadata": {},
     "data": {}
    }
   ],
   "source": [
    "dg.density |>\n",
    "ggplot(aes(x=pages,y=fig_per_page, color=VenueType, shape=Venue)) +\n",
    "  geom_point(alpha=0.4) +\n",
    "  #geom_point(position=position_jitter(width=0.5,height = 0.5)) +\n",
    "  scale_color_brewer(type=\"qual\",palette=1)+\n",
    "  scale_shape_manual(values=15:18)+\n",
    "  #scale_x_log10()+\n",
    "  xlab(\"Pages\") + ylab(\"Figure\\nDensity\") +\n",
    "  theme_minimal()+\n",
    "  theme(legend.position = \"right\",\n",
    "        legend.key.height = unit(2,\"lines\"),\n",
    "        axis.title.y = element_text(vjust=1,angle = 0, margin = margin(r=-15)))\n",
    "\n",
    "pf.cor <- cor.test(dg.density$pages,dg.density$fig_per_page)"
   ],
   "id": "cell-fig-pages-density"
  },
  {
   "cell_type": "markdown",
   "metadata": {},
   "source": [
    "We observe a small negative correlation (Pearson r=-0.273) between the number of pages and the figure density.\n",
    "\n",
    "To understand if a change in time occurred we compared the two conferences over the same years. <a href=\"#fig-density-time\" class=\"quarto-xref\">Fig. 3</a> reports the boxplot of density over three years."
   ],
   "id": "67293a7a-f95e-494a-b17d-e4ea75dd6e6d"
  },
  {
   "cell_type": "code",
   "execution_count": null,
   "metadata": {},
   "outputs": [
    {
     "output_type": "stream",
     "name": "stderr",
     "text": [
      "Warning in cor.test.default(x = mf[[1L]], y = mf[[2L]], ...): Cannot compute\n",
      "exact p-value with ties"
     ]
    },
    {
     "output_type": "display_data",
     "metadata": {},
     "data": {}
    }
   ],
   "source": [
    "dg.density |> filter(Year>=2019,VenueType==\"Conference\") |>\n",
    "ggplot(aes(x=fig_per_page,y=as_factor(Year))) +\n",
    "  geom_boxplot(fill=\"#7FC97F\") +\n",
    "  geom_point(aes(x=mean_fig), \n",
    "             shape=\"+\",size=5,\n",
    "             data=function(d) d |> group_by(Year,Venue) |>\n",
    "                   summarize(mean_fig=mean(fig_per_page,na.rm=TRUE),\n",
    "                             .groups = \"drop\")) +\n",
    "  ylab(\"Figures per page\") + xlab(\"Year of publication\") +\n",
    "  facet_wrap(\"Venue\",ncol=2,strip.position = \"top\",scales = \"free_x\")+\n",
    "  theme_light()+theme(panel.grid.major.y = element_blank())\n",
    "\n",
    "yp.cor <- cor.test(~ fig_per_page + Year, \n",
    "         method=\"spearman\",\n",
    "         data=dg.density|> filter(VenueType==\"Conference\",Year>=2019))"
   ],
   "id": "cell-fig-density-time"
  },
  {
   "cell_type": "markdown",
   "metadata": {},
   "source": [
    "From the figure we can observe a negligible (r=0.138) correlation of density with year of publication.\n",
    "\n",
    "## 4.2 RQ2 Content\n",
    "\n",
    "<a href=\"#fig-category-venue\" class=\"quarto-xref\">Fig. 4</a> reports the proportion of quantitative (Q) vs. non quantitative (NonQ) figures in the article, divided by venue."
   ],
   "id": "d37cf306-ff89-420d-8d34-04a459f52762"
  },
  {
   "cell_type": "code",
   "execution_count": null,
   "metadata": {},
   "outputs": [
    {
     "output_type": "display_data",
     "metadata": {},
     "data": {}
    }
   ],
   "source": [
    "dg %>% filter( !Missing, !is.na(Type) ) %>% \n",
    "  group_by(Venue) %>% \n",
    "  count(quantitative) %>% \n",
    "  mutate( prop = n / sum(n)) %>% \n",
    "ggplot(aes(x=prop,y=Venue,fill=quantitative)) +\n",
    "  geom_col() +\n",
    "  ylab(NULL) +\n",
    "  scale_x_continuous(label=scales::label_percent())+\n",
    "  scale_fill_brewer(type=\"qual\",palette=2,labels=c(\"Q\",\"NonQ\"),breaks=c(TRUE,FALSE))+\n",
    "  geom_vline(aes(xintercept=prop),color=\"gray40\",linetype=2,\n",
    "             data=~.x|>ungroup()|>group_by(quantitative)|>\n",
    "                  summarize(n=sum(n),.groups=\"drop\")|>\n",
    "                  mutate(prop=n/sum(n))|>\n",
    "                  filter(quantitative==\"Q\")) +\n",
    "  geom_text(aes(label=paste0(round(prop*100,1),\"% \"),y=5),color=\"gray40\",\n",
    "             hjust=\"right\",size=3,\n",
    "             data=~.x|>ungroup()|>group_by(quantitative)|>\n",
    "                  summarize(n=sum(n),.groups=\"drop\")|>\n",
    "                  mutate(prop=n/sum(n))|>\n",
    "                  filter(quantitative==\"Q\")) +\n",
    "  geom_text(aes(x=pos,label=(prop*100)|>round(1)|>paste0(\"% \")), \n",
    "            hjust=\"right\",color=\"white\",\n",
    "            data=~.x|>group_by(Venue)|>arrange(-as.numeric(quantitative))|>mutate(pos=cumsum(prop)),size=3) +\n",
    "  scale_y_discrete(expand=expansion(add=c(0,1.2)))+\n",
    "  annotate(\"text\",x=c(0.25,0.75),y=c(4,4),label=c(\"Q\",\"NonQ\"),color=\"gray90\",fontface=\"bold\") +\n",
    "  xlab(\"Proportion of figures\")+\n",
    "  theme_minimal()+theme(panel.grid.major.y = element_blank(),\n",
    "        legend.position = \"bottom\",\n",
    "        axis.title.y = element_text(vjust=1,angle = 0, margin = margin(r=-15)))"
   ],
   "id": "cell-fig-category-venue"
  },
  {
   "cell_type": "markdown",
   "metadata": {},
   "source": [
    "Roughly half (47.2%) of the figures are used to convey quantitative information while the remaining are used to represent other types of information. The proportion varies notably among the four venues considered, with ESEM conference articles having an average of two thirds figures being quantitative, while ICSE articles invert the proportion with around one third of quantitative figures."
   ],
   "id": "9171e0e3-ad8d-4ea2-ae67-7b3b4c373775"
  },
  {
   "cell_type": "code",
   "execution_count": null,
   "metadata": {},
   "outputs": [
    {
     "output_type": "display_data",
     "metadata": {},
     "data": {}
    }
   ],
   "source": [
    "dg.q <-\n",
    "dg |> filter( !Missing, !is.na(Type) ) |> \n",
    "  group_by(Venue,DOI) |> \n",
    "  count(quantitative) |>\n",
    "  complete(quantitative,fill=list(n=0)) |>\n",
    "  pivot_wider(values_from = \"n\", names_from = \"quantitative\") |>\n",
    "  group_by(Venue) |>\n",
    "  summarize(PropQ = sum(Q)/sum(NonQ+Q), \n",
    "            MeanPropQ = mean(Q/(NonQ+Q)), \n",
    "            SDPropQ = sd(Q/(NonQ+Q)), \n",
    "            NumNoQ = sum(Q==0),\n",
    "            PropNoQ = sum(Q==0)/n(), \n",
    "            NumOnlyQ = sum(NonQ==0),\n",
    "            PropOnlyQ = sum(NonQ==0)/n(),.groups = \"drop\")\n",
    "\n",
    "dg |> filter( !Missing, !is.na(Type) ) |> \n",
    "  group_by(VenueType,Venue,DOI) |> \n",
    "  count(quantitative) |>\n",
    "  complete(quantitative,fill=list(n=0)) |>\n",
    "  pivot_wider(values_from = \"n\", names_from = \"quantitative\") |>\n",
    "  summarize(PropQ = Q/(NonQ+Q), .groups=\"drop\") |>\n",
    "ggplot(aes(x=PropQ))+\n",
    "  geom_histogram(fill=\"#D95F02\",bins=20)+\n",
    "  geom_text(aes(label=paste0(round(PropNoQ*100,1),\"%\"),x=0,y=NumNoQ),vjust=1.2,size=2,data=dg.q,color=\"white\")+\n",
    "  geom_text(aes(label=paste0(round(PropOnlyQ*100,1),\"%\"),x=1,y=NumOnlyQ),vjust=1.2,size=2,data=dg.q,color=\"white\")+\n",
    "  facet_wrap(\"Venue\",ncol=1,scales=\"free_y\",strip.position=\"right\")+\n",
    "  xlab(\"Proportion of quantitative figures\")+\n",
    "  ylab(\"Number of Articles\")+\n",
    "  theme_light()"
   ],
   "id": "cell-fig-q-prop"
  },
  {
   "cell_type": "markdown",
   "metadata": {},
   "source": [
    "The detailed distribution of the proportion of quantitative figures per paper is reported in <a href=\"#fig-q-prop\" class=\"quarto-xref\">Fig. 5</a>. We observe that in the case of ESEM the distribution is very extreme with 22% of articles that have no quantitative figure at all and 44% that contain only quantitative figures. For the other venues the proportion articles with only quantitative figures is much smaller with proportions ranging from 5% to 7%, while the proportion of articles with only non quantitative figures is close to 20%.\n",
    "\n",
    "Focusing on the non quantitative figures only, <a href=\"#fig-nonq\" class=\"quarto-xref\">Fig. 6</a> reports the numbers as well as the proportion of the five different non quantitative types defined in our taxonomy. Two out of three non quantitative figures fall into the broad *Schema* category that includes all the diagrams use to explain something, including also software architecture or UML diagrams. Around one in five *NonQ* figures are used to depict code, this is common practice used instead of the *Listing* environment. A smaller proportion (8.2%) is represented by screenshots. Eventually, we observed a few figures depicting graphs – set of nodes and edges possibly labelled – and just 59 figures reporting pictures or photographs."
   ],
   "id": "5f284938-e4c7-43a9-8b25-6b17e605e505"
  },
  {
   "cell_type": "code",
   "execution_count": null,
   "metadata": {},
   "outputs": [
    {
     "output_type": "display_data",
     "metadata": {},
     "data": {}
    }
   ],
   "source": [
    "dg %>% filter( !Missing, !is.na(Type), quantitative==\"NonQ\" ) %>% \n",
    "  count( main_type ) %>% \n",
    "  mutate( prop = n / sum(n)) %>% \n",
    "  mutate(main_type = reorder(main_type,n)) %>% \n",
    "  filter(prop>=0.01) %>% \n",
    "ggplot(aes(x=n,y=main_type)) +\n",
    "  geom_col(fill=\"#1B9E77\") +\n",
    "  geom_text(aes(label=paste0(\" \",round(prop*100,1),\"% \"),\n",
    "                color=if_else(prop<0.1,\"black\",\"white\"),\n",
    "                hjust=if_else(prop<0.1,\"left\",\"right\")), vjust=\"bottom\", size=3) +\n",
    "  geom_text(aes(label=paste0(\"  (\",n,\")  \"),\n",
    "                color=if_else(prop<0.1,\"black\",\"white\"),\n",
    "                hjust=if_else(prop<0.1,\"left\",\"right\")), vjust=1.5, size=2) +\n",
    "  scale_color_identity(guide=\"none\") +\n",
    "  ylab(NULL) + xlab(\"Number of figures\")+\n",
    "  theme_minimal()+theme(panel.grid.major.y = element_blank())"
   ],
   "id": "cell-fig-nonq"
  },
  {
   "cell_type": "markdown",
   "metadata": {},
   "source": [
    "## 4.3 RQ3 Types\n",
    "\n",
    "We report in <a href=\"#fig-quantitative\" class=\"quarto-xref\">Fig. 7</a> the overall proportion of the different types of quantitative figures present in our taxonomy."
   ],
   "id": "6434c4cb-f730-4cc2-b014-7d100321312b"
  },
  {
   "cell_type": "code",
   "execution_count": null,
   "metadata": {},
   "outputs": [
    {
     "output_type": "display_data",
     "metadata": {},
     "data": {}
    }
   ],
   "source": [
    "dg %>% filter( !is.na(Type), quantitative==\"Q\" ) %>% \n",
    "  count( main_type ) %>% \n",
    "  mutate( prop = n / sum(n)) %>% \n",
    "  mutate(main_type = reorder(main_type,n)) %>% \n",
    "  filter(prop>=0.005) %>% \n",
    "ggplot(aes(x=n,y=main_type)) +\n",
    "  geom_col(fill=\"#D95F02\") +\n",
    "  geom_text(aes(label=paste0(\" \",round(prop*100,1),\"% \"),\n",
    "                color=if_else(prop<0.1,\"black\",\"white\"),\n",
    "                hjust=if_else(prop<0.1,\"left\",\"right\")), vjust=\"bottom\", size=3) +\n",
    "  geom_text(aes(label=paste0(\"  (\",n,\")  \"),\n",
    "                color=if_else(prop<0.1,\"black\",\"white\"),\n",
    "                hjust=if_else(prop<0.1,\"left\",\"right\")), vjust=1.5, size=2) +\n",
    "  scale_color_identity(guide=\"none\") +\n",
    "  ylab(NULL) + xlab(\"Number of figures\") +\n",
    "  theme_minimal()+theme(panel.grid.major.y = element_blank())"
   ],
   "id": "cell-fig-quantitative"
  },
  {
   "cell_type": "markdown",
   "metadata": {},
   "source": [
    "Overall one of every three quantitative figures contains a bar plot The two other common used plot types are boxplots (19.6%) and line plots (18.7%). Dot plots and scatter plots together make 8.8%, heatmaps account for 3.1% of quantitative figures, the remaining types overall account for 13% of quantitative diagram, any of them accounting for less than 3% individually.\n",
    "\n",
    "In the taxonomy we used for quantitative diagram types – reported in <a href=\"#sec-variables\" class=\"quarto-xref\">Section 3.2</a> –, we have different types of bar plots. <a href=\"#fig-bars\" class=\"quarto-xref\">Fig. 8</a> reports the number and the proportion of the different type of bar charts. Apart the simple bar charts that are used in half of the cases, one in four bar diagram use grouped or clustered bars, and 17% use stacked bars. A small minority of bar diagram are diverging diagrams."
   ],
   "id": "d886ebbd-ac3d-4047-9286-18008f7dab54"
  },
  {
   "cell_type": "code",
   "execution_count": null,
   "metadata": {},
   "outputs": [
    {
     "output_type": "display_data",
     "metadata": {},
     "data": {}
    }
   ],
   "source": [
    "dg|>filter(main_type==\"Bar\")|>\n",
    "  mutate(BarType = if_else(str_detect(Type,\"[Gg]roup\"),\"Bar Grouped\",\"Bar\"),\n",
    "         BarType = if_else(str_detect(Type,\"[Ss]tack\"),\"Bar Stacked\",BarType),\n",
    "         BarType = if_else(str_detect(Type,\"[Dd]iverg\"),\"Bar Stacked Diverging\",BarType))|>\n",
    "  count( BarType ) %>% \n",
    "  mutate( prop = n / sum(n)) %>% \n",
    "  mutate(BarType = reorder(BarType,n)) %>% \n",
    "  filter(prop>=0.005) %>% \n",
    "ggplot(aes(x=n,y=BarType)) +\n",
    "  geom_col(fill=\"#D95F02\") +\n",
    "  geom_text(aes(label=paste0(\" \",round(prop*100,1),\"% \"),\n",
    "                color=if_else(prop<0.1,\"black\",\"white\"),\n",
    "                hjust=if_else(prop<0.1,\"left\",\"right\")), vjust=\"bottom\", size=3) +\n",
    "  geom_text(aes(label=paste0(\"  (\",n,\")  \"),\n",
    "                color=if_else(prop<0.1,\"black\",\"white\"),\n",
    "                hjust=if_else(prop<0.1,\"left\",\"right\")), vjust=1.5, size=2) +\n",
    "  scale_color_identity(guide=\"none\") +\n",
    "  ylab(NULL) + xlab(\"Number of figures\") +\n",
    "  theme_minimal()+theme(panel.grid.major.y = element_blank())"
   ],
   "id": "cell-fig-bars"
  },
  {
   "cell_type": "markdown",
   "metadata": {},
   "source": [
    "## 4.4 RQ4: Errors\n",
    "\n",
    "On the basis of the error taxonomy described in section <a href=\"#sec-error-taxonomy\" class=\"quarto-xref\">Section 2.2</a> we detected the errors committed in the quantitative figures. The violin plots in <a href=\"#fig-error-venue-distr\" class=\"quarto-xref\">Fig. 9</a> describe the distribution of errors per quantitative figure detected in the articles appearing in the four considered venues."
   ],
   "id": "f56c05ce-e815-438d-82b0-e31d99230598"
  },
  {
   "cell_type": "code",
   "execution_count": null,
   "metadata": {},
   "outputs": [
    {
     "output_type": "display_data",
     "metadata": {},
     "data": {}
    }
   ],
   "source": [
    "dg %>% filter(!Missing,quantitative==\"Q\") %>% \n",
    "      mutate(n_errors = rowSums(across(all_of(errors$Error)))) %>% \n",
    "      select(-errors$Error) %>% \n",
    "ggplot(aes(y=Venue,x=n_errors,fill=VenueType))+\n",
    "  geom_violin(adjust=2)+\n",
    "  geom_boxplot(color=\"gray40\",fill=\"white\",alpha=0.5,width=0.4)+\n",
    "  geom_point(shape=\"+\", size=4, color=\"gray50\",\n",
    "             data=~.x|>group_by(Venue)|>mutate(n_errors=mean(n_errors)))+\n",
    "  scale_fill_brewer(type=\"qual\",palette=1,guide = \"none\")+\n",
    "  theme_minimal()+\n",
    "  xlab(\"Number of errors per figure.\")+\n",
    "  theme(legend.position = \"bottom\",\n",
    "        axis.title.y = element_text(vjust=1,angle = 0, margin = margin(r=-15)))\n",
    "\n",
    "NoErrorSummary <-\n",
    "dg %>% filter(!Missing,quantitative==\"Q\") |>\n",
    "      mutate(n_errors = rowSums(across(all_of(errors$Error)))) |>\n",
    "      select(-errors$Error) |> \n",
    "      group_by(Venue) |>\n",
    "      summarize(CountNoError = sum(n_errors==0),PropNoError=CountNoError/n()) |>\n",
    "      mutate(PropNoError = (PropNoError*100) |> round(1) |> paste0(\"%\")) |>\n",
    "      mutate(Descr = paste(PropNoError,\"for\",Venue)) |>\n",
    "      summarize(Summary = paste(Descr, collapse=\",\")) |>\n",
    "      as.character()"
   ],
   "id": "cell-fig-error-venue-distr"
  },
  {
   "cell_type": "markdown",
   "metadata": {},
   "source": [
    "We observe the average number of errors per figure is 1.6 (median 1). Overall half of the figures exhibit at least one error, with half the EMSE articles showing at least 2 errors. Concerning the proportion of figures where no error was detected, they are 37.4% for ESEM,30.6% for ICSE,12.2% for EMSE,40.1% for TSE.\n",
    "\n",
    "A more detailed picture can be gained by looking at the frequency of error free figures by severity level and venue reported in <a href=\"#tbl-severity-error-free\" class=\"quarto-xref\">Table 6</a>."
   ],
   "id": "e0ce5995-2ee4-4d38-9f7d-228295b2d517"
  },
  {
   "cell_type": "code",
   "execution_count": null,
   "metadata": {},
   "outputs": [],
   "source": [
    "dg %>% filter(!Missing,quantitative==\"Q\") |>\n",
    "pivot_longer(cols=all_of(errors$Error),names_to = \"Error\",values_to = \"Detected\", ) |>\n",
    "left_join(errors |> select(Error,Severity), by=\"Error\") |>\n",
    "group_by(VenueType,Venue,DOI,Fig,Severity) |>\n",
    "summarize( n_errors = sum(Detected), .groups=\"drop\") |>\n",
    "group_by(VenueType,Venue,Severity,n_errors) |>\n",
    "summarize( count=n(), .groups = \"drop\") |>\n",
    "group_by(VenueType,Venue,Severity) |> \n",
    "mutate(prop = count/sum(count)) |>\n",
    "filter(n_errors==0) |>\n",
    "ungroup() |>\n",
    "select(Venue,Severity,prop) |>\n",
    "mutate(prop = (prop*100) |> formatC(format=\"f\",digits=1) |> paste0(\"%\") ) |>\n",
    "pivot_wider(names_from=\"Severity\",values_from=\"prop\") |>\n",
    "kableExtra::kbl(booktabs = T, position=\"tb\")"
   ],
   "id": "c2be4819-30d3-4f0d-9758-ee84c70698e1"
  },
  {
   "cell_type": "markdown",
   "metadata": {},
   "source": [
    "Overall we observe that one every four pictures contains at least a critical error, with similar condition across the four venues. Concerning the major errors, the journal TSE and the conference ESEM contain at least one error in one out of three figures, while the proportion of figures with at least one major error is 50% for ICSE and 60% for EMSE. As far as minor errors are concerned, we observe a similar amount of defective figures for all venues except EMSE where 60% of figures contain at least one error.\n",
    "\n",
    "Focusing down more, from the severity levels to the specific types of errors, <a href=\"#fig-error-type\" class=\"quarto-xref\">Fig. 10</a> reports the occurrence numbers and proportions of all the error types defined in the error taxonomy we defined in <a href=\"#sec-error-taxonomy\" class=\"quarto-xref\">Section 2.2</a>. The errors types are reported divided by severity levels."
   ],
   "id": "c1156398-47f0-4d02-93d0-3bae4013861f"
  },
  {
   "cell_type": "code",
   "execution_count": null,
   "metadata": {},
   "outputs": [
    {
     "output_type": "display_data",
     "metadata": {},
     "data": {}
    }
   ],
   "source": [
    "num_qfigures <- nrow( dg %>% filter(!Missing,quantitative==\"Q\") )\n",
    "dg %>% filter(!Missing,quantitative==\"Q\") %>% \n",
    "  pivot_longer(cols=all_of(errors$Error),names_to = \"Error\") %>% \n",
    "  group_by(Error) %>% \n",
    "  summarize( n = sum(value), .groups = \"drop\") |>\n",
    "  full_join(errors |> select(Error,Severity),by=\"Error\") |>\n",
    "  mutate(prop= n / num_qfigures, Error = reorder(Error,n)) |>\n",
    "ggplot(aes(y=Error,x=n)) +\n",
    "  geom_col(fill=\"#D95F02\") +\n",
    "  geom_text(aes(label=paste0(\" \",round(prop*100,1),\"% \"),\n",
    "                color=if_else(prop<0.06,\"black\",\"white\"),\n",
    "                hjust=if_else(prop<0.06,\"left\",\"right\")), vjust=\"bottom\", size=3) +\n",
    "  geom_text(aes(label=paste0(\"  (\",n,\")  \"),\n",
    "                color=if_else(prop<0.06,\"black\",\"white\"),\n",
    "                hjust=if_else(prop<0.06,\"left\",\"right\")), vjust=1.5, size=2) +\n",
    "  scale_color_identity(guide=\"none\") +\n",
    "  facet_grid(Severity~.,scales=\"free_y\", space = \"free_y\")+\n",
    "  ylab(NULL) + xlab(\"Number of figures\") +\n",
    "  theme_light()+theme(panel.grid.major.y = element_blank())"
   ],
   "id": "cell-fig-error-type"
  },
  {
   "cell_type": "markdown",
   "metadata": {},
   "source": [
    "As far as the major errors are concerned, we observe that the most common error – affecting 9.6% of figures – is the adoption of a colour palette that does not enable an easy distinction of categories. The next error consists in missing references on the axes (7.2%), and eventually the attempt to encode too many distinct categories in a single plot (6.6%).\n",
    "\n",
    "The most common major error is the use of rotated labels on the x axis (16.2%), next is the use of a legend instead of direct labelling (14.4%). The next error affects figures containing multiple diagrams and consists in using different scales on aligned diagrams (9.9%).\n",
    "\n",
    "The two most common minor errors regard the use of legends, often (20% of figures) the legend is placed inside the plot, which reduces the clarity, also (17.8%) the legend is surrounded by a border that affects the ease of scanning back and forth between plot and legend itself. Another common error is the use of raster images (15.1%) that affects the overall visual quality of the diagram.\n",
    "\n",
    "# 5. Discussion\n",
    "\n",
    "Based on the findings reported in the previous section we can answer the original research questions of the research and outline a few additional considerations.\n",
    "\n",
    "## 5.1 Answers to Research Questions\n",
    "\n",
    "As far as the mode of use of figures (RQ1) is concerned, we observed a relatively large adoption of figures with an average of 0.42 figures per page. As a comparison the present paper contains 12 figures in 8 pages, that is 1.5 figures per page, a clear outlier if we look at <a href=\"#fig-density\" class=\"quarto-xref\">Fig. 1</a>. Two venues are aligned with the average (ESEM and TSE) while the two other depart significantly: ICSE has higher density while EMSE has lower density. Concerning this latter difference, it can be explained by the larger number of pages of the articles published by EMSE.\n",
    "\n",
    "> **RQ1: how are figures used in SE articles?**\n",
    ">\n",
    "> On average, there are two figures every five pages with some difference among venues, partly due to the length of articles.\n",
    "\n",
    "Concerning the category of figures – quantitative vs. non-quantitative –, we found that 47% of figures is quantitative but there are large difference among the three considered venues. Articles appearing in ICSE have just 1/3 of Q figures while ESEM papers have 2/3. A possible explanation for such difference is that since ESEM is hosting mainly empirical studies, the authors often need to show quantitative information and Q figures are widely – 44% of papers contain only quantitative figures – used for this purpose. On the other hand, ICSE hosts papers that have less empirical content and thus employ Q figures less, moreover the wide spectrum of topics present at ICSE require to provide context and details that are better explained with diagrams; such use of overview diagrams could explain the higher number of figures in ICSE papers, in fact the proportion of articles without quantitative figures is simila in ICSE and ESEM.\n",
    "\n",
    "> **RQ2: what are figures used for?**\n",
    ">\n",
    "> A bit less than half of the figures are used to convey quantitative information, with wide variation from 1/3 to 2/3. Overall one in five papers have no quantitative figure at all; while only 6% of papers contain only quantitative figures, with the notable exception of ESEM conference where 44% articles do.\n",
    "\n",
    "When looking at the type of quantitative diagrams used, we observe that more than one in three is a bar plot (36.8%). The second most used diagram type are boxplots (19.6%), in fact showing the distribution of a set of values is a common necessity in empirical studies. Other means to show distributions are violin plots (2.7%) and beeswarm (0.9%), in addition to histograms that in our taxonomy are conflated with bar plots. Line plots represent the third most common type of quantitative diagram (18.7%). They address the common requirement of showing trends and relationships between pairs of variables. Scatter plots that have similar use are much less common (3.3%). Other types of diagram that are known for perceptual issues, that is pies and bubbles, are rarely used: 2.5% and 0.7% respectively.\n",
    "\n",
    "> **RQ3: what type of quantitive diagrams are used?**\n",
    ">\n",
    "> The most common type is bar plot, used in one out of three figures, followed by boxplots and line plots, each used in 20% of figures.\n",
    "\n",
    "Talking about errors, we found 1.6 errors per figure on average (median 1). Anyway, across all venues, one in three figures showed no errors according to our taxonomy, while considering only critical errors, three out of four figures are fine. Focusing on major and minor errors, we observed that half of the figures showed at least one.\n",
    "\n",
    "The use of colours too similar to each other is the most common critical error, this is often due to little care spent in selecting an appropriate palette. The lack of values on the axes is another relatively common error that has a heavy impact on the ability to understand the diagram. Often in graphs that have been generated by basic tools – e.g. spreadsheet programs –, the categories are automatically encoded using many different variation of a single visual attribute – e.g. shape or color – that require a lot of cognitive effort to be discerned. A little more design effort should be spent in finding alternative representations that make understanding more immediate. Another common result of using unaltered graphs produced by e.g. spreadsheets is having rotated or slanted labels on the x axis, making reading the graph more difficult than required. Most of the time a simple solution is to swap x and y axes; this should be the immediate choice in presence of long labels. Another common mistake that is worth mentioning is the use of a legend instead of direct labelling the series of data in the plot area. This is probably due to the default in most tools as well as the difficulty in implementing direct labelling in those tools.\n",
    "\n",
    "Most of the times errors could be solved with a small effort. We believe they are introduce because authors do not pay enough attention to the quality of the figures and, in the case of journals, neither the reviewers do. Some basic and easy to follow guidelines are presented in the Empirical Standards for Software Engineering Research [\\[3\\]](#ref-EmpiricalStandards).\n",
    "\n",
    "We note that very few figures show evident mistakes such as using non-zero based bars, copping figures, adopting double scales or deforming the graph area; still almost 5% of figures are affected.\n",
    "\n",
    "> **RQ4: what errors are found in quantitative figures?**\n",
    ">\n",
    "> The average figure in SE articles contains one or two errors, although on average 1/3 of figures show no error. A common critical error is the use of hard to discern palettes. The use of rotated labels on the x axis is the most widespread major error. Common minor errors include a less than ideal use of legends.\n",
    "\n",
    "## 5.2 Limitations\n",
    "\n",
    "The study presented in this paper is exploratory and therefore presents several limitations; we highlight the main ones.\n",
    "\n",
    "Only a few selected SE publication venues have been considered. Although the venues have a very good reputation, they do not represent the whole publication spectrum in SE. Moreover the articles have been drawn from a limited time span, they represent a sample. This might affect the external validity of the study. The graph error taxonomy has been built based on the literature in the area of data visualization, although it has not been empirically validates. It could have omitted important errors or, vice-versa, considered error that are not such in the view of other researchers. In addition the severity level has been assigned to each error on the basis of the author expert judgment. In the classification of the type of quantitative diagrams we considered only the main type, although there are several cases of diagram that mix multiple types, e.g. bars + lines, that were not considered.\n",
    "\n",
    "# 6. Conclusions\n",
    "\n",
    "In this work we collected articles from four leading SE publication venues, two conferences and two journals, and analyzed how figures are used. We found the average density is 0.42 figures per page and half of them are used to convey quantitative information. The most common quantitative graph types are bar plots, boxplots, and line plots. We also classified the errors committed in the quantitative graphs and we found that on average every figure has 1 or 2 errors.\n",
    "\n",
    "Most errors are relatively easy to address and we advocate for a wider diffusion of visual literacy in the SE research community.\n",
    "\n",
    "As future work we would like to extend the survey to a wider time span as well as other venues. In addition we should take into consideration figures with multiple types. Eventually, a pragmatic guide to assess and improve quantitative diagrams and help researchers avoid the most common pitfalls, could be defined based on this work.\n",
    "\n",
    "# 7. References"
   ],
   "id": "20ddb5ed-1ed0-4766-a476-bf7a8647fa96"
  }
 ],
 "nbformat": 4,
 "nbformat_minor": 5,
 "metadata": {}
}
